{
  "nbformat": 4,
  "nbformat_minor": 0,
  "metadata": {
    "colab": {
      "name": "myFirstProgram.ipynb",
      "provenance": [],
      "authorship_tag": "ABX9TyOdtIhOShn/xoc6OXB+zRTh",
      "include_colab_link": true
    },
    "kernelspec": {
      "name": "python3",
      "display_name": "Python 3"
    }
  },
  "cells": [
    {
      "cell_type": "markdown",
      "metadata": {
        "id": "view-in-github",
        "colab_type": "text"
      },
      "source": [
        "<a href=\"https://colab.research.google.com/github/adielws/firstRepo/blob/master/myFirstProgram.ipynb\" target=\"_parent\"><img src=\"https://colab.research.google.com/assets/colab-badge.svg\" alt=\"Open In Colab\"/></a>"
      ]
    },
    {
      "cell_type": "code",
      "metadata": {
        "id": "5OSJZdbkhQcW",
        "colab_type": "code",
        "colab": {
          "base_uri": "https://localhost:8080/",
          "height": 34
        },
        "outputId": "f43a99fa-e012-4e07-9d2e-b1c33888da75"
      },
      "source": [
        "import time\n",
        "print (time.ctime())"
      ],
      "execution_count": null,
      "outputs": [
        {
          "output_type": "stream",
          "text": [
            "Sat Sep 19 13:33:45 2020\n"
          ],
          "name": "stdout"
        }
      ]
    },
    {
      "cell_type": "code",
      "metadata": {
        "id": "XjHqQLdIkWHi",
        "colab_type": "code",
        "colab": {
          "base_uri": "https://localhost:8080/",
          "height": 34
        },
        "outputId": "a1d655f1-e256-4413-dcf0-512280c8822f"
      },
      "source": [
        "time.sleep(5)\n",
        "print (time.ctime())"
      ],
      "execution_count": null,
      "outputs": [
        {
          "output_type": "stream",
          "text": [
            "Sat Sep 19 13:34:09 2020\n"
          ],
          "name": "stdout"
        }
      ]
    },
    {
      "cell_type": "markdown",
      "metadata": {
        "id": "KX25AYYZnQZW",
        "colab_type": "text"
      },
      "source": [
        "Do **it** how you want to do!\n",
        "\n",
        "Do *it* how you want to do!\n",
        "\n",
        "Do ~it~ how you want to do!\n",
        "\n",
        "\n",
        "\n",
        "```\n",
        "# Isto está formatado como código\n",
        "\n",
        "import time\n",
        "```\n",
        "\n",
        "$\\sqrt{3x-1}+(1+x)^2x$\n",
        "\n",
        "$e^x=\\sum_{i=0}^\\infty \\frac{1}{i!}x^i$"
      ]
    }
  ]
}